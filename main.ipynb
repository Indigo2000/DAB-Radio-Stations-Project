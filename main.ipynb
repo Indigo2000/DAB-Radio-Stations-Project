{
 "cells": [
  {
   "cell_type": "code",
   "execution_count": null,
   "id": "9dcb642f",
   "metadata": {},
   "outputs": [],
   "source": [
    "# Program to import and display information about Antenna and Parameter data for DAB radio stations\n",
    "import GUI\n",
    "from GUI import *\n",
    "import config"
   ]
  },
  {
   "cell_type": "code",
   "execution_count": null,
   "id": "85cd5c27",
   "metadata": {},
   "outputs": [],
   "source": [
    "def main():\n",
    "    # Launch the gui\n",
    "    splash()"
   ]
  },
  {
   "cell_type": "code",
   "execution_count": null,
   "id": "aac58f39",
   "metadata": {},
   "outputs": [],
   "source": [
    "# Launch the splash screen and then the whole program\n",
    "main()"
   ]
  },
  {
   "cell_type": "code",
   "execution_count": null,
   "id": "1ef97132",
   "metadata": {
    "lines_to_next_cell": 2
   },
   "outputs": [],
   "source": [
    "# Upon exiting, write the current view to file\n",
    "config.json_string = config.json_string[:len(config.json_string) - 2]\n",
    "config.json_string = config.json_string + ',\\n\\\"View\":[\\n{\\\"Current View\\\": ' + str(config.display_value) + '}\\n]\\n}'\n",
    "json_handling.json_to_file('CurrentState.json', config.json_string)"
   ]
  }
 ],
 "metadata": {
  "jupytext": {
   "cell_metadata_filter": "-all",
   "main_language": "python",
   "notebook_metadata_filter": "-all"
  }
 },
 "nbformat": 4,
 "nbformat_minor": 5
}
